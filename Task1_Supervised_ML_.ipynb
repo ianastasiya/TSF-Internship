{
  "nbformat": 4,
  "nbformat_minor": 0,
  "metadata": {
    "colab": {
      "name": "Task1 - Supervised ML .ipynb",
      "provenance": []
    },
    "kernelspec": {
      "name": "python3",
      "display_name": "Python 3"
    },
    "language_info": {
      "name": "python"
    }
  },
  "cells": [
    {
      "cell_type": "markdown",
      "metadata": {
        "id": "n4rKlOe4d634"
      },
      "source": [
        "<h2> Author: Isgandarova Anastasiya </h2>"
      ]
    },
    {
      "cell_type": "markdown",
      "metadata": {
        "id": "M8yRwkNieDfb"
      },
      "source": [
        "<h2>Prediction using Supervised ML</h2>\n",
        "<p> In this exercise, the Python Scikit-Learn library will be used for machine learning to implement regression functions. Considered case is the simple linear regression involving two variables. The objective of the exercise is to predict the percentage of an student based on the number of study hours.</p>\n"
      ]
    },
    {
      "cell_type": "markdown",
      "metadata": {
        "id": "XVi1XeO-fPjk"
      },
      "source": [
        "**Step 1. Import Libraries**"
      ]
    },
    {
      "cell_type": "code",
      "metadata": {
        "id": "eOzeyXQ4fOVH"
      },
      "source": [
        "import pandas as pd\n",
        "import numpy as np\n",
        "import matplotlib.pyplot as plt\n",
        "%matplotlib inline "
      ],
      "execution_count": null,
      "outputs": []
    },
    {
      "cell_type": "markdown",
      "metadata": {
        "id": "Oz12DEfyfjeA"
      },
      "source": [
        "**Step 2. Reading dataset**"
      ]
    },
    {
      "cell_type": "code",
      "metadata": {
        "colab": {
          "base_uri": "https://localhost:8080/",
          "height": 195
        },
        "id": "Jl5gIOdXfZ8y",
        "outputId": "c0132317-acf1-42de-9292-a73cde42d157"
      },
      "source": [
        "data = pd.read_csv(\"http://bit.ly/w-data\")\n",
        "data.head()"
      ],
      "execution_count": null,
      "outputs": [
        {
          "output_type": "execute_result",
          "data": {
            "text/html": [
              "<div>\n",
              "<style scoped>\n",
              "    .dataframe tbody tr th:only-of-type {\n",
              "        vertical-align: middle;\n",
              "    }\n",
              "\n",
              "    .dataframe tbody tr th {\n",
              "        vertical-align: top;\n",
              "    }\n",
              "\n",
              "    .dataframe thead th {\n",
              "        text-align: right;\n",
              "    }\n",
              "</style>\n",
              "<table border=\"1\" class=\"dataframe\">\n",
              "  <thead>\n",
              "    <tr style=\"text-align: right;\">\n",
              "      <th></th>\n",
              "      <th>Hours</th>\n",
              "      <th>Scores</th>\n",
              "    </tr>\n",
              "  </thead>\n",
              "  <tbody>\n",
              "    <tr>\n",
              "      <th>0</th>\n",
              "      <td>2.5</td>\n",
              "      <td>21</td>\n",
              "    </tr>\n",
              "    <tr>\n",
              "      <th>1</th>\n",
              "      <td>5.1</td>\n",
              "      <td>47</td>\n",
              "    </tr>\n",
              "    <tr>\n",
              "      <th>2</th>\n",
              "      <td>3.2</td>\n",
              "      <td>27</td>\n",
              "    </tr>\n",
              "    <tr>\n",
              "      <th>3</th>\n",
              "      <td>8.5</td>\n",
              "      <td>75</td>\n",
              "    </tr>\n",
              "    <tr>\n",
              "      <th>4</th>\n",
              "      <td>3.5</td>\n",
              "      <td>30</td>\n",
              "    </tr>\n",
              "  </tbody>\n",
              "</table>\n",
              "</div>"
            ],
            "text/plain": [
              "   Hours  Scores\n",
              "0    2.5      21\n",
              "1    5.1      47\n",
              "2    3.2      27\n",
              "3    8.5      75\n",
              "4    3.5      30"
            ]
          },
          "metadata": {
            "tags": []
          },
          "execution_count": 5
        }
      ]
    },
    {
      "cell_type": "markdown",
      "metadata": {
        "id": "oOwyjSXhf9O4"
      },
      "source": [
        "**Step 3. Plot graph to find the relationship**"
      ]
    },
    {
      "cell_type": "code",
      "metadata": {
        "colab": {
          "base_uri": "https://localhost:8080/",
          "height": 295
        },
        "id": "5tZ8vkUMf4ZA",
        "outputId": "712db8e8-a00e-486c-bbf9-1c511b75288d"
      },
      "source": [
        "plt.scatter(x = data[\"Hours\"], y = data[\"Scores\"])\n",
        "plt.xlabel(\"Studied hours\")\n",
        "plt.ylabel(\"Percentage score\")\n",
        "plt.title(\"Hours vs Percentage\")\n",
        "plt.show()"
      ],
      "execution_count": null,
      "outputs": [
        {
          "output_type": "display_data",
          "data": {
            "image/png": "[encoded data removed]",
            "text/plain": [
              "<Figure size 432x288 with 1 Axes>"
            ]
          },
          "metadata": {
            "tags": [],
            "needs_background": "light"
          }
        }
      ]
    },
    {
      "cell_type": "markdown",
      "metadata": {
        "id": "5QbnBjEThxn0"
      },
      "source": [
        "<p>From the graph, it is clear that there is a positive linear relationship between the number of hours spend on studying and the percentage of score. Since our goal is to predict the percentage of an student based on the no. of study hours, so we need to use a simple machine learning model.</p>"
      ]
    },
    {
      "cell_type": "markdown",
      "metadata": {
        "id": "BI8xVeXBiSo3"
      },
      "source": [
        "**Step 4. Preparing dataset**"
      ]
    },
    {
      "cell_type": "markdown",
      "metadata": {
        "id": "mjFZns0MiciK"
      },
      "source": [
        "<p>Input attributes: number of hours, output is percentage score. Python iloc() function enables us to select a particular cell of the dataset, that is, it helps us select a value that belongs to a particular row or column from a set of values of a data frame or dataset. dataframe.iloc[:,start_col:end_col] </p>"
      ]
    },
    {
      "cell_type": "code",
      "metadata": {
        "id": "1FoaLbfLgMrp"
      },
      "source": [
        "X = data.iloc[:,:-1].values\n",
        "y = data.iloc[:,1].values\n",
        "#Split data into training and testing dataset by using scikit-learn library\n",
        "from sklearn.model_selection import train_test_split\n",
        "X_train, X_test, y_train, y_test = train_test_split(X, y,  test_size=0.3, random_state=0) # 30% of the dataset for testing, the rest for training"
      ],
      "execution_count": null,
      "outputs": []
    },
    {
      "cell_type": "markdown",
      "metadata": {
        "id": "MG6sQDnmj-71"
      },
      "source": [
        "**Step 5. Training the Algorithm**"
      ]
    },
    {
      "cell_type": "code",
      "metadata": {
        "colab": {
          "base_uri": "https://localhost:8080/",
          "height": 295
        },
        "id": "Z5DpJzagjd9J",
        "outputId": "d1e0cca8-08b5-4d49-cacb-8ea3ac31bba7"
      },
      "source": [
        "from sklearn.linear_model import LinearRegression\n",
        "regression_model = LinearRegression().fit(X_train, y_train)\n",
        "# Plotting the regression line\n",
        "line = regression_model.coef_*X+regression_model.intercept_\n",
        "plt.scatter(X, y, color = \"m\", marker = \"o\")\n",
        "plt.plot(X, line)\n",
        "plt.xlabel(\"x\")\n",
        "plt.ylabel(\"y\")\n",
        "plt.title(\"Actual points as scatter plot\")\n",
        "plt.show()"
      ],
      "execution_count": null,
      "outputs": [
        {
          "output_type": "display_data",
          "data": {
            "image/png": "[encoded data removed]",
            "text/plain": [
              "<Figure size 432x288 with 1 Axes>"
            ]
          },
          "metadata": {
            "tags": [],
            "needs_background": "light"
          }
        }
      ]
    },
    {
      "cell_type": "markdown",
      "metadata": {
        "id": "5xQygh43o5dA"
      },
      "source": [
        "**Step 6. Making Prediction and Evaluation of Model**"
      ]
    },
    {
      "cell_type": "code",
      "metadata": {
        "colab": {
          "base_uri": "https://localhost:8080/"
        },
        "id": "E_Pgnrj8ogb4",
        "outputId": "3b127f79-2bba-49e2-9976-88de6111820f"
      },
      "source": [
        "y_pred = regression_model.predict(X_test) # predicted percentage score\n",
        "# Question 1: What will be predicted score if a student studies for 9.25 hrs/ day?\n",
        "hours = 9.25\n",
        "print('Percentage Score of student who studied for 9.25 hours', regression_model.predict([[hours]]))\n",
        "\n",
        "from sklearn import metrics\n",
        "print('Mean Absolute Error:', metrics.mean_absolute_error(y_test, y_pred))\n",
        "print('Mean Squared Error:', metrics.mean_squared_error(y_test, y_pred))\n",
        "print('Root Mean Squared Error:', np.sqrt(metrics.mean_squared_error(y_test, y_pred)))\n",
        "\n",
        "#Let's find the values for these metrics using our test data."
      ],
      "execution_count": null,
      "outputs": [
        {
          "output_type": "stream",
          "text": [
            "Percentage Score of student who studied for 9.25 hours [92.91505723]\n",
            "Mean Absolute Error: 4.419727808027651\n",
            "Mean Squared Error: 22.965097212700428\n",
            "Root Mean Squared Error: 4.7921912746363144\n"
          ],
          "name": "stdout"
        }
      ]
    }
  ]
}